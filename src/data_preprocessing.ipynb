{
  "nbformat": 4,
  "nbformat_minor": 0,
  "metadata": {
    "colab": {
      "name": "data_preprocessing.ipynb",
      "provenance": [],
      "collapsed_sections": []
    },
    "kernelspec": {
      "name": "python3",
      "display_name": "Python 3"
    },
    "language_info": {
      "name": "python"
    }
  },
  "cells": [
    {
      "cell_type": "markdown",
      "source": [
        "# This file preprocesses Reddit conversational data to that ensure all remaining inputs can be run through VALUE\n",
        "\n",
        "Critical Imports"
      ],
      "metadata": {
        "id": "X1bZYXWgD4mK"
      }
    },
    {
      "cell_type": "code",
      "execution_count": null,
      "metadata": {
        "id": "vgTHXmgVp7ia"
      },
      "outputs": [],
      "source": [
        "import numpy as np\n",
        "import pandas as pd\n",
        "import re"
      ]
    },
    {
      "cell_type": "markdown",
      "source": [
        "Google Drive stuff. You will probably need to modify the path"
      ],
      "metadata": {
        "id": "c6Ux-CeGER96"
      }
    },
    {
      "cell_type": "code",
      "source": [
        "from google.colab import drive\n",
        "drive.mount('/content/drive')"
      ],
      "metadata": {
        "colab": {
          "base_uri": "https://localhost:8080/"
        },
        "id": "SSG9ra0TrEg6",
        "outputId": "2ff35e5a-9bb4-4449-d148-e2360afc5b36"
      },
      "execution_count": null,
      "outputs": [
        {
          "output_type": "stream",
          "name": "stdout",
          "text": [
            "Drive already mounted at /content/drive; to attempt to forcibly remount, call drive.mount(\"/content/drive\", force_remount=True).\n"
          ]
        }
      ]
    },
    {
      "cell_type": "code",
      "source": [
        "path = 'drive/MyDrive/Colab Notebooks/SALT Lab' \n",
        "%cd $path"
      ],
      "metadata": {
        "colab": {
          "base_uri": "https://localhost:8080/"
        },
        "id": "PQkRO1pusEV9",
        "outputId": "243e16cd-70dd-41c2-f8ea-a2afad9a62cb"
      },
      "execution_count": null,
      "outputs": [
        {
          "output_type": "stream",
          "name": "stdout",
          "text": [
            "/content/drive/MyDrive/Colab Notebooks/SALT Lab\n"
          ]
        }
      ]
    },
    {
      "cell_type": "markdown",
      "source": [
        "Text file paths"
      ],
      "metadata": {
        "id": "8IVgoFZCEX2V"
      }
    },
    {
      "cell_type": "code",
      "source": [
        "standard_path = 'contexts.csv'\n",
        "perturbed_path = 'perturbed.csv'\n",
        "standard_df = pd.read_csv(standard_path, index_col = 0)\n",
        "perturbed_df = pd.read_csv(perturbed_path, index_col = 0)"
      ],
      "metadata": {
        "colab": {
          "base_uri": "https://localhost:8080/"
        },
        "id": "5OsyJdD5r4uB",
        "outputId": "31e4f2a5-77b6-4200-dc96-f34c4ede674b"
      },
      "execution_count": null,
      "outputs": [
        {
          "output_type": "stream",
          "name": "stderr",
          "text": [
            "/usr/local/lib/python3.7/dist-packages/IPython/core/interactiveshell.py:2882: DtypeWarning: Columns (0) have mixed types.Specify dtype option on import or set low_memory=False.\n",
            "  exec(code_obj, self.user_global_ns, self.user_ns)\n"
          ]
        }
      ]
    },
    {
      "cell_type": "code",
      "source": [
        "print(standard_df[0:10])"
      ],
      "metadata": {
        "colab": {
          "base_uri": "https://localhost:8080/"
        },
        "id": "vFiVwM9cwh-S",
        "outputId": "808cdf17-05d4-4e59-ea87-7906f62b7302"
      },
      "execution_count": null,
      "outputs": [
        {
          "output_type": "stream",
          "name": "stdout",
          "text": [
            "                                             context              subreddit\n",
            "0  Why are there so many people with social anxie...         Showerthoughts\n",
            "1          By chance....is he related to Mr. Manson?              AskReddit\n",
            "2                                          Muy bien!              animation\n",
            "3  A teacher that signed a letter vouching for Ka...               politics\n",
            "4  fuck I thought I was keeping a low profile, tu...              uwaterloo\n",
            "5  &gt;It’s not clear how Wylie would have any in...               politics\n",
            "6  Say it with me: Supreme Court Justice Cry Baby...               politics\n",
            "7  Those shelves look to have a giant letter show...            TaylorSwift\n",
            "8  [Good day everyone :)](https://www.youtube.com...  Random_Acts_Of_Amazon\n",
            "9  What you can use it now? Did the update just h...                   WWII\n"
          ]
        }
      ]
    },
    {
      "cell_type": "markdown",
      "source": [
        "## Very simple filter that removes all text without alphanumerics + common characters in text."
      ],
      "metadata": {
        "id": "YhYonadBD2ts"
      }
    },
    {
      "cell_type": "code",
      "source": [
        "def alphanumeric_filter(df):\n",
        "  regex = re.compile(\"^[a-zA-Z0-9 !?:;',.()\\\"`’\\-\\%$]*$\")\n",
        "  fake_regex = re.compile(\"a\")\n",
        "  # print(re.match(regex, \"/\"))\n",
        "  filtered_df = df[standard_df.context.str.match(regex) == True]\n",
        "  filtered_df = filtered_df.reset_index(drop = True)\n",
        "  return filtered_df\n",
        "  # unfiltered_df = df[standard_df.context.str.match(regex) == False]\n",
        "  # unfiltered_df = unfiltered_df.reset_index(drop = True)\n",
        "  # unfiltered_df.to_csv(\"unfiltered.csv\")"
      ],
      "metadata": {
        "id": "59WqYMaJuTaf"
      },
      "execution_count": null,
      "outputs": []
    },
    {
      "cell_type": "code",
      "source": [
        "filtered_df = alphanumeric_filter(standard_df)\n",
        "filtered_df.to_csv(\"reddit_filtered.csv\")"
      ],
      "metadata": {
        "id": "66n-wHs7V5Jf"
      },
      "execution_count": null,
      "outputs": []
    }
  ]
}